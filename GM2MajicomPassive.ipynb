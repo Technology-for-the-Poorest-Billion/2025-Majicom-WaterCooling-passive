{
  "nbformat": 4,
  "nbformat_minor": 0,
  "metadata": {
    "colab": {
      "provenance": [],
      "authorship_tag": "ABX9TyO7opm5FmiagDRO3CQGkFRx",
      "include_colab_link": true
    },
    "kernelspec": {
      "name": "python3",
      "display_name": "Python 3"
    },
    "language_info": {
      "name": "python"
    }
  },
  "cells": [
    {
      "cell_type": "markdown",
      "metadata": {
        "id": "view-in-github",
        "colab_type": "text"
      },
      "source": [
        "<a href=\"https://colab.research.google.com/github/Technology-for-the-Poorest-Billion/2025-Majicom-WaterCooling-passive/blob/main/GM2MajicomPassive.ipynb\" target=\"_parent\"><img src=\"https://colab.research.google.com/assets/colab-badge.svg\" alt=\"Open In Colab\"/></a>"
      ]
    },
    {
      "cell_type": "markdown",
      "source": [
        "Run to install libraries and initialise"
      ],
      "metadata": {
        "id": "cDVc49pJDS6P"
      }
    },
    {
      "cell_type": "code",
      "execution_count": 11,
      "metadata": {
        "id": "zIxq-WwlweVj",
        "colab": {
          "base_uri": "https://localhost:8080/"
        },
        "outputId": "d7b5e857-b8ba-4c8e-b032-613072b7c6bc"
      },
      "outputs": [
        {
          "output_type": "stream",
          "name": "stdout",
          "text": [
            "Requirement already satisfied: CoolProp in /usr/local/lib/python3.11/dist-packages (6.8.0)\n"
          ]
        }
      ],
      "source": [
        "!pip install CoolProp\n",
        "import matplotlib\n",
        "import matplotlib.pyplot as plt\n",
        "import numpy as np\n",
        "import CoolProp.CoolProp as CP\n",
        "from CoolProp.HumidAirProp import HAPropsSI"
      ]
    },
    {
      "cell_type": "markdown",
      "source": [
        "Creates a set of classes to define various input parameters of interest: Air transport property, tank / kiosk geometry and fan behaviour"
      ],
      "metadata": {
        "id": "PF3xS2bZDR3d"
      }
    },
    {
      "cell_type": "code",
      "source": [
        "class AP: # Air Property\n",
        "  def __init__(self,T,R, P = 101325):\n",
        "    self.T = T # Temperature\n",
        "    self.R = R # Relative Humidity\n",
        "    self.P = P # Pressure\n",
        "\n",
        "  def density(self):\n",
        "    Vha = HAPropsSI('Vha', 'T', self.T, 'P', self.P, 'R', self.R)\n",
        "    return 1/Vha\n",
        "\n",
        "  def dynamicViscosity(self):\n",
        "    return HAPropsSI('mu', 'T', self.T, 'P', self.P, 'R', self.R)\n",
        "\n",
        "  def kinematicViscosity(self):\n",
        "    return self.dynamicViscosity()/self.density()\n",
        "\n",
        "  def thermalConductivity(self):\n",
        "    return HAPropsSI('k', 'T', self.T, 'P', self.P, 'R', self.R)\n",
        "\n",
        "  def diffusionCoefficient(self):\n",
        "    D0 = 2.5 * (10**-5)\n",
        "    T0 = 273.15\n",
        "    D = D0*((self.T/T0)**1.75)  #CHECK THIS\n",
        "\n",
        "    return D\n",
        "\n",
        "\n",
        "class fanSpec: # fan properties\n",
        "  def __init__(self,P, CFM):\n",
        "    self.P = P # Power Consumption\n",
        "    self.CFM = CFM # Mass flow rate (Cubic Feet per minute)\n",
        "\n",
        "\n",
        "class tankGeo:\n",
        "  def __init__(self,Router,Rinner,tankHeight,t, k):\n",
        "    self.Router = Router # Kiosk Shell Radius\n",
        "    self.Rinner = Rinner # Tank Radius\n",
        "    self.tankHeight = tankHeight\n",
        "    self.t = t # Wall thickness\n",
        "    self.k = k # Thermal Conductivity of wall material\n",
        "\n",
        "  def areaFlow(self):\n",
        "    return np.pi*(self.Router**2) - np.pi*(self.Rinner**2)\n",
        "\n",
        "  def volumeTank(self):\n",
        "    return np.pi*(self.Rinner**2)*self.tankHeight\n",
        "\n",
        "  def areaFlow(self):\n",
        "    return np.pi*(self.Router**2) - np.pi*(self.Rinner**2)\n",
        "\n",
        "  def areaTank(self):\n",
        "    return np.pi*(self.Rinner**2)*self.tankHeight\n",
        "\n",
        "class mat: # material\n",
        "\n",
        "  def __init__(self,k,t,msat,density,porosity):\n",
        "    self.k = k # Thermal Conductivity when dry\n",
        "    self.t = t # Thickness\n",
        "    self.msat = msat # Mass of water at maximum saturation per unit area of material\n",
        "    self.density = density # Density of material (dry)\n",
        "    self.porosity = porosity # Porosity of material (fraction of the total volume that is empty pores)\n",
        "\n",
        "\n",
        "\n",
        "\n",
        "\n",
        "\n",
        "\n",
        "\n"
      ],
      "metadata": {
        "id": "EHZ-xJ7gD8qt"
      },
      "execution_count": 12,
      "outputs": []
    },
    {
      "cell_type": "markdown",
      "source": [],
      "metadata": {
        "id": "hceQfrqrD2Ll"
      }
    },
    {
      "cell_type": "code",
      "source": [
        "def velocityAir(tank: tankGeo ,fan: fanSpec):\n",
        "\n",
        "\n",
        "  A = tank.areaFlow()\n",
        "  Q = fan.CFM*0.00047194745                           # Unit conversion between Cubic Feet per Minute and m^3/s\n",
        "  v = Q/A\n",
        "  return v\n",
        "\n",
        "def hm(tank: tankGeo, fan:fanSpec, air:AP):               # Defining the mass transfer coefficient for water into humid air\n",
        "\n",
        "  L = tank.tankHeight\n",
        "\n",
        "  v = velocityAir(tank,fan)\n",
        "  Sc = air.kinematicViscosity()/air.diffusionCoefficient() # Schmidt Number\n",
        "  Re = (v*L)/air.kinematicViscosity()                      # Reynold's Number with tank height as characteristic length\n",
        "\n",
        "  Sh = 0.664*(Re**0.5)*(Sc**(1/3))                     # Sherwood Number\n",
        "\n",
        "  return Sh*air.diffusionCoefficient()/L\n",
        "\n",
        "\n",
        "\n",
        "def evaporationEnergy(tank: tankGeo, fan:fanSpec, material: mat, air: AP, S, Tf ): # New Variable S is the mass saturation = mass of water / maximum mass of water\n",
        "\n",
        "  massCoeff = hm(tank,fan,air)\n",
        "\n",
        "  A = tank.areaTank()\n",
        "  densityWater = 1000 # kgm^3\n",
        "  VTotal = tank.areaTank()*material.t\n",
        "  VWater = S*material.msat/densityWater # Total volume of water added\n",
        "  VPore = material.porosity*VTotal # Volume of pores\n",
        "  VMaterial = VTotal - VPore\n",
        "\n",
        "  kWater = 0.6 #estimate for thermal conductivity of water\n",
        "  hAir = 10    # convective heat loss coefficient for air (may need to change)\n",
        "  hfg = 2260e3 # Latent heat of evaporation (IS GIVING WEIRD ANSWERS)\n",
        "\n",
        "\n",
        "\n",
        "\n",
        "  ## Handling 3 Phase mixture conductivity\n",
        "\n",
        "  if VPore > VWater: # Not all pores in the fibre are occupied so there is still some air remaining\n",
        "\n",
        "    VAir = VPore - VWater\n",
        "    kTotal = (material.k*VMaterial + kWater*VWater + air.thermalConductivity()*VAir)/VTotal\n",
        "\n",
        "  else: # The pores in the fibre are fully occupied with water and all air is displaced. Additional water can be absorbed by swelling\n",
        "\n",
        "    kTotal = (material.k*VMaterial + kWater*VWater)/VTotal\n",
        "\n",
        "\n",
        "  ## Defining the thermal resistances based on thermal conductivity\n",
        "\n",
        "\n",
        "  Raf = 1/(hAir*A) #Thermal resistance from air to fabric\n",
        "  Rfw = np.log((tank.Rinner + material.t) / tank.Rinner)/(2*np.pi*tank.tankHeight*kTotal) + np.log((tank.Rinner) / (tank.Rinner - tank.t) )/(2*np.pi*tank.tankHeight*tank.k) #Thermal resistance from fabric to water. Currently to surface of water\n",
        "  Rawc = tank.t/(tank.k*2*np.pi*(tank.Rinner**2))\n",
        "  Rawe = 0 # emissive resistance (0 is just a filler for now)\n",
        "  Raw = Rawc # Likely temporary probably better to handle any radiative input as a current source into the water\n",
        "\n",
        "\n",
        "  ## EValuating energy balance\n",
        "\n",
        "  Tw = (Rfw * air.T + Raw * Tf)/(Raw + Rfw)\n",
        "  Pv =  HAPropsSI('P_w', 'T', Tf, 'P', air.P, 'R', 1)\n",
        "  Ps = HAPropsSI('P_w', 'T', air.T, 'P', air.P, 'R', air.R)\n",
        "  mdot = S*massCoeff*A*(Pv - Ps)\n",
        "\n",
        "\n",
        "  q_evap = mdot*hfg\n",
        "\n",
        "  qaf = (air.T - Tf)/Raf\n",
        "  qwf = (Tw - Tf)/Rfw\n",
        "\n",
        "  e = qaf + qwf - q_evap # error\n",
        "\n",
        "  return [Tw,e,mdot]\n",
        "\n",
        "\n",
        "def waterTemperature(tank: tankGeo, fan:fanSpec, material: mat, air: AP, S):\n",
        "\n",
        "  tol = 1e-3\n",
        "  delta = 0.1\n",
        "  Tf = air.T\n",
        "  maxRunTime = 100\n",
        "\n",
        "  for i in range (maxRunTime):\n",
        "\n",
        "\n",
        "    e0 = evaporationEnergy(tank,fan,material,air,S,Tf)[1]\n",
        "    e1 = evaporationEnergy(tank,fan,material,air,S,Tf + delta)[1]\n",
        "    de = (e1 - e0)/delta\n",
        "    Tf2 = Tf - e0/de\n",
        "\n",
        "\n",
        "    if abs(e0) < tol:\n",
        "      break\n",
        "    else:\n",
        "      Tf = Tf2\n",
        "\n",
        "  Tw = evaporationEnergy(tank,fan,material,air,S,Tf)[0]\n",
        "\n",
        "  return [Tw,Tf]\n",
        "\n",
        "\n",
        "\n",
        "\n",
        "\n",
        "\n",
        "\n",
        "\n",
        "\n",
        "\n",
        "\n",
        "\n",
        "\n",
        "\n",
        "\n",
        "\n",
        "\n",
        "\n",
        "\n",
        "\n",
        "\n",
        "\n",
        "\n",
        "\n",
        "\n"
      ],
      "metadata": {
        "id": "sQGWPNzBodza"
      },
      "execution_count": 13,
      "outputs": []
    },
    {
      "cell_type": "markdown",
      "source": [
        "Attempting to run functions with an initial starting point"
      ],
      "metadata": {
        "id": "jOBGArzlADZi"
      }
    },
    {
      "cell_type": "code",
      "source": [
        "airTest = AP(300, 0.2)\n",
        "tankTest = tankGeo(1, 0.5, 0.5, 0.005, 0.5) # Guessing parameters at the right order of magnitude\n",
        "materialTest = mat(0.9, 0.001, 1000,1000, 0.1)\n",
        "fanTest = fanSpec(50,1000)\n",
        "\n",
        "evaporationEnergy(tankTest,fanTest,materialTest,airTest,1,300)\n",
        "\n",
        "\n",
        "print(300 - waterTemperature(tankTest,fanTest,materialTest,airTest,0.9)[0])\n",
        "\n",
        "\n",
        "\n"
      ],
      "metadata": {
        "id": "x3pcmhjc86x0",
        "colab": {
          "base_uri": "https://localhost:8080/"
        },
        "outputId": "04d57fff-69ce-4f13-ccc7-d73156412685"
      },
      "execution_count": 14,
      "outputs": [
        {
          "output_type": "stream",
          "name": "stdout",
          "text": [
            "12.368573612179603\n"
          ]
        }
      ]
    },
    {
      "cell_type": "markdown",
      "source": [
        "Temperatature and Humidity Variation:\n",
        "\n",
        "One question majicom had was whether cool humid air would be a more effective cooling medium than warmer dry air. In order to answer this question water temperature has been calculated over a broad range of conditions and plotted on a heat map. This visualises the tradeoff between temperature and humidity. Diagonal bands show lines of constant cooling under varying conditions"
      ],
      "metadata": {
        "id": "EXA0G7hrvYwO"
      }
    },
    {
      "cell_type": "code",
      "source": [
        "tempAvg = 273.15 + 33\n",
        "tank = tankGeo(1, 0.5, 0.5, 0.005, 0.5)\n",
        "material = mat(0.9, 0.001, 1000,1000, 0.5)\n",
        "fan = fanSpec(50,1000)\n",
        "\n",
        "Trange = np.linspace(tempAvg-2,315,50)\n",
        "Rrange = np.linspace(0.4,1,50)\n",
        "TwMatrix = np.zeros((len(Rrange), len(Trange)))\n",
        "S = 0.5\n",
        "\n",
        "for i, R in enumerate(Rrange):\n",
        "  for j, T in enumerate(Trange):\n",
        "    air = AP(T,R)\n",
        "    TwMatrix[i,j] = waterTemperature(tank,fan,material,air,S)[0]\n",
        "\n",
        "\n",
        "plt.figure(figsize=(8,8))\n",
        "X,Y = np.meshgrid(Trange,Rrange)\n",
        "c = plt.pcolormesh(X,Y,TwMatrix, cmap='jet')\n",
        "plt.colorbar(c)\n",
        "\n",
        "\n",
        "\n",
        "plt.axvline(x = tempAvg, color = 'black', linestyle = '--')\n",
        "plt.axhline(y = 0.7, color = 'black', linestyle = '--')\n",
        "\n",
        "\n",
        "\n",
        "plt.show()"
      ],
      "metadata": {
        "id": "cRQAvMsUbp-W",
        "colab": {
          "base_uri": "https://localhost:8080/",
          "height": 682
        },
        "outputId": "c206c642-6c82-489b-a42a-865440ce571c"
      },
      "execution_count": 15,
      "outputs": [
        {
          "output_type": "display_data",
          "data": {
            "text/plain": [
              "<Figure size 800x800 with 2 Axes>"
            ],
            "image/png": "[encoded data removed]"
          },
          "metadata": {}
        }
      ]
    },
    {
      "cell_type": "markdown",
      "source": [
        "Material Database:\n",
        "\n",
        "The next step is to produce a database of material properties that we are considering. This will contain a range of material properties for different materials that are of interest"
      ],
      "metadata": {
        "id": "zcETZmiExoTH"
      }
    },
    {
      "cell_type": "code",
      "source": [],
      "metadata": {
        "id": "IxlkQW1OyQk2"
      },
      "execution_count": 15,
      "outputs": []
    },
    {
      "cell_type": "markdown",
      "source": [
        "Fan Models:\n",
        "\n",
        "The model of fan will have a notable effect on the rate of cooling. It will affect air speed and power consumption. Below are a range of fans that are being considered for this application."
      ],
      "metadata": {
        "id": "KcIS_kLdyd9W"
      }
    },
    {
      "cell_type": "code",
      "source": [
        "fanModel = fan() #PV123812DSPF 01"
      ],
      "metadata": {
        "id": "mnk7gNAqydVB"
      },
      "execution_count": 15,
      "outputs": []
    },
    {
      "cell_type": "markdown",
      "source": [
        "Validation against experiment:\n",
        "\n",
        "An important validation step is comparing the data produced by this model to real world data taken in the lab. Below is a comparison of the experimental data with the simulated data taken under equivalent conditions to those in the lab"
      ],
      "metadata": {
        "id": "rEgS-Hocyt4j"
      }
    },
    {
      "cell_type": "code",
      "source": [
        "tankModel = tankGeo()\n",
        "tankReal = tankGeo ()"
      ],
      "metadata": {
        "id": "jgmQ8gfSyvEu"
      },
      "execution_count": 15,
      "outputs": []
    },
    {
      "cell_type": "markdown",
      "source": [
        "Cooling Rates:\n",
        "\n",
        "So far all modelling has worked under the assumption that the saturation of the material remains constant. This is a reasonable assumption that stems from the intent to spray, mist or soak the material through some means. It is, as a result, important to understand how long the material would take to dry without any misting. This will help the team at majicom determine how often the material needs to be resoaked"
      ],
      "metadata": {
        "id": "GaanRi37xz91"
      }
    },
    {
      "cell_type": "code",
      "source": [
        "def coolingTime(tank: tankGeo, fan:fanSpec, material: mat, air: AP, Sinit, Sfinal):\n",
        "\n",
        "  A = tank.areaTank()\n",
        "  mWaterSat = material.msat*A\n",
        "\n",
        "  massCoeff = hm(tank,fan,air)\n",
        "\n",
        "\n",
        "  # Initialise\n",
        "  S = Sinit\n",
        "  minit = Sinit*mWaterSat\n",
        "  mfinal = Sfinal*mWaterSat\n",
        "  mWater = minit\n",
        "  dt = 600 #Time interval in seconds\n",
        "  time = 0\n",
        "\n",
        "  # Drying loop\n",
        "\n",
        "  while mWater > mfinal:\n",
        "    Tf = waterTemperature(tank,fan,material,air,S)[1]\n",
        "    mdotEvap = evaporationEnergy(tank,fan,material,air,S,Tf)[2]\n",
        "    dm = mdotEvap*dt\n",
        "    mWater -= dm\n",
        "\n",
        "\n",
        "\n",
        "    time += dt\n",
        "    if mWater < mfinal:\n",
        "\n",
        "      mWater = mfinal\n",
        "\n",
        "\n",
        "  return time/60\n",
        "\n",
        "\n",
        "\n",
        "\n",
        "\n",
        "\n",
        "\n",
        "\n",
        "\n"
      ],
      "metadata": {
        "id": "ef5Q5UaLyQ3y"
      },
      "execution_count": 36,
      "outputs": []
    },
    {
      "cell_type": "code",
      "source": [
        "print(coolingTime(tankTest,fanTest,materialTest,airTest,1,0))"
      ],
      "metadata": {
        "colab": {
          "base_uri": "https://localhost:8080/"
        },
        "id": "jaGlkn-AZODV",
        "outputId": "256e189f-4329-435b-d168-b82a60ab1b0c"
      },
      "execution_count": 37,
      "outputs": [
        {
          "output_type": "stream",
          "name": "stdout",
          "text": [
            "7250.0\n"
          ]
        }
      ]
    },
    {
      "cell_type": "code",
      "source": [
        "\n",
        "S = np.linspace(0,1,10)\n",
        "time = np.zeros(len(S))\n",
        "for i, s in enumerate(S):\n",
        "  time[i] = coolingTime(tankTest,fanTest,materialTest,airTest,s,0)\n",
        "\n",
        "\n",
        "plt.plot(S,time)\n",
        "plt.show()"
      ],
      "metadata": {
        "colab": {
          "base_uri": "https://localhost:8080/",
          "height": 430
        },
        "id": "RggwlIPxU-C5",
        "outputId": "03a72474-7e2f-48cb-f0ef-6ecf3dfdbe1c"
      },
      "execution_count": 40,
      "outputs": [
        {
          "output_type": "display_data",
          "data": {
            "text/plain": [
              "<Figure size 640x480 with 1 Axes>"
            ],
            "image/png": "[encoded data removed]"
          },
          "metadata": {}
        }
      ]
    },
    {
      "cell_type": "markdown",
      "source": [
        "Currently the numbers from this seem to large. In order to test this, I will compare these results with the experimental work done. Experimental data will provide: saturated mass and mass loss within a specific period of time. For the air conditions in lab and the geometry of the apparatus, I can estimate and compare cooling time to reach a specific saturation ratio"
      ],
      "metadata": {
        "id": "1DrIU7smcGo9"
      }
    },
    {
      "cell_type": "code",
      "source": [],
      "metadata": {
        "id": "E2VWNpjccWzE"
      },
      "execution_count": null,
      "outputs": []
    },
    {
      "cell_type": "markdown",
      "source": [
        "Axial temperature gradients. Does"
      ],
      "metadata": {
        "id": "zLv618N-l7YJ"
      }
    },
    {
      "cell_type": "code",
      "source": [],
      "metadata": {
        "id": "eIfopzzql7LF"
      },
      "execution_count": null,
      "outputs": []
    }
  ]
}