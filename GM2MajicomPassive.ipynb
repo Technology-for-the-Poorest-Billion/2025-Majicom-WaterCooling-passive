{
  "nbformat": 4,
  "nbformat_minor": 0,
  "metadata": {
    "colab": {
      "provenance": [],
      "authorship_tag": "ABX9TyPH+7PdAIpx2CNn87zp2CeL",
      "include_colab_link": true
    },
    "kernelspec": {
      "name": "python3",
      "display_name": "Python 3"
    },
    "language_info": {
      "name": "python"
    }
  },
  "cells": [
    {
      "cell_type": "markdown",
      "metadata": {
        "id": "view-in-github",
        "colab_type": "text"
      },
      "source": [
        "<a href=\"https://colab.research.google.com/github/Technology-for-the-Poorest-Billion/2025-Majicom-WaterCooling-passive/blob/main/GM2MajicomPassive.ipynb\" target=\"_parent\"><img src=\"https://colab.research.google.com/assets/colab-badge.svg\" alt=\"Open In Colab\"/></a>"
      ]
    },
    {
      "cell_type": "markdown",
      "source": [
        "Run to install libraries and initialise"
      ],
      "metadata": {
        "id": "cDVc49pJDS6P"
      }
    },
    {
      "cell_type": "code",
      "execution_count": 3,
      "metadata": {
        "id": "zIxq-WwlweVj",
        "colab": {
          "base_uri": "https://localhost:8080/"
        },
        "outputId": "90c40572-a50e-42c5-d905-dd7c895cbe10"
      },
      "outputs": [
        {
          "output_type": "stream",
          "name": "stdout",
          "text": [
            "Collecting CoolProp\n",
            "  Downloading coolprop-6.8.0-cp311-cp311-manylinux_2_17_x86_64.manylinux2014_x86_64.whl.metadata (282 bytes)\n",
            "Downloading coolprop-6.8.0-cp311-cp311-manylinux_2_17_x86_64.manylinux2014_x86_64.whl (10.6 MB)\n",
            "\u001b[2K   \u001b[90m━━━━━━━━━━━━━━━━━━━━━━━━━━━━━━━━━━━━━━━━\u001b[0m \u001b[32m10.6/10.6 MB\u001b[0m \u001b[31m61.3 MB/s\u001b[0m eta \u001b[36m0:00:00\u001b[0m\n",
            "\u001b[?25hInstalling collected packages: CoolProp\n",
            "Successfully installed CoolProp-6.8.0\n"
          ]
        }
      ],
      "source": [
        "!pip install CoolProp\n",
        "import matplotlib\n",
        "import matplotlib.pyplot as plt\n",
        "import numpy as np\n",
        "import CoolProp.CoolProp as CP\n",
        "from CoolProp.HumidAirProp import HAPropsSI"
      ]
    },
    {
      "cell_type": "markdown",
      "source": [
        "Creates a set of classes to define various input parameters of interest: Air transport property, tank / kiosk geometry and fan behaviour"
      ],
      "metadata": {
        "id": "PF3xS2bZDR3d"
      }
    },
    {
      "cell_type": "code",
      "source": [
        "class AP: # Air Property\n",
        "  def __init__(self,T,R, P = 101325):\n",
        "    self.T = T # Temperature\n",
        "    self.R = R # Relative Humidity\n",
        "    self.P = P # Pressure\n",
        "\n",
        "  def density(self):\n",
        "    Vha = HAPropsSI('Vha', 'T', self.T, 'P', self.P, 'R', self.R)\n",
        "    return 1/Vha\n",
        "\n",
        "  def dynamicViscosity(self):\n",
        "    return HAPropsSI('mu', 'T', self.T, 'P', self.P, 'R', self.R)\n",
        "\n",
        "  def kinematicViscosity(self):\n",
        "    return self.dynamic_viscosity()/self.density()\n",
        "\n",
        "  def thermalConductivity(self):\n",
        "    return HAPropsSI('k', 'T', self.T, 'P', self.P, 'R', self.R)\n",
        "\n",
        "  def diffusionCoefficient(self):\n",
        "    D0 = 2.5 * (10**-5)\n",
        "    T0 = 1\n",
        "    D = D0*(self.T/T0)**1.75\n",
        "\n",
        "    return D\n",
        "\n",
        "\n",
        "class fan: # fan properties\n",
        "  def __init__(self,P, CFM):\n",
        "    self.P = P # Power Consumption\n",
        "    self.CFM = CFM # Mass flow rate (Cubic Feet per minute)\n",
        "\n",
        "\n",
        "class tankGeo:\n",
        "  def __init__(self,Router,Rinner,tankHeigh,t, k):\n",
        "    self.Router = Router # Kiosk Shell Radius\n",
        "    self.Rinner = Rinner # Tank Radius\n",
        "    self.tankHeight = tankHeight\n",
        "    self.t = t # Wall thickness\n",
        "    self.k = k # Thermal Conductivity of wall material\n",
        "\n",
        "  def areaFlow(self):\n",
        "    return np.pi*(self.Router**2) - np.pi*(self.Rinner**2)\n",
        "\n",
        "  def volumeTank(self):\n",
        "    return np.pi*(self.Rinner**2)*self.tankHeight\n",
        "\n",
        "  def areaFlow(self):\n",
        "    return np.pi*(self.Router**2) - np.pi*(self.Rinner**2)\n",
        "\n",
        "  def areaTank(self):\n",
        "    return np.pi*(self.Rinner**2)*self.tankHeight\n",
        "\n",
        "class mat: # material\n",
        "\n",
        "  def __init__(self,k,t,msat,density,porosity):\n",
        "    self.k = k # Thermal Conductivity when dry\n",
        "    self.t = t # Thickness\n",
        "    self.msat = msat # Mass of water at maximum saturation per unit area of material\n",
        "    self.density = density # Density of material (dry)\n",
        "    self.porosity = porosity # Porosity of material (fraction of the total volume that is empty pores)\n",
        "\n",
        "\n",
        "\n",
        "\n",
        "\n",
        "\n",
        "\n",
        "\n"
      ],
      "metadata": {
        "id": "EHZ-xJ7gD8qt"
      },
      "execution_count": 4,
      "outputs": []
    },
    {
      "cell_type": "markdown",
      "source": [],
      "metadata": {
        "id": "hceQfrqrD2Ll"
      }
    },
    {
      "cell_type": "code",
      "source": [
        "def velocityAir(tank: tankGeo ,fan: fan):\n",
        "\n",
        "\n",
        "  A = tank.areaFlow\n",
        "  Q = fan.CFM*0.00047194745                           # Unit conversion between Cubic Feet per Minute and m^3/s\n",
        "  v = Q/A\n",
        "  return v\n",
        "\n",
        "def hm(tank: tankGeo, fan:fan, air:AP):               # Defining the mass transfer coefficient for water into humid air\n",
        "\n",
        "  L = tank.tankHeight\n",
        "\n",
        "  v = velocityAir(tank,fan)\n",
        "  Sc = air.kinematicViscosity/air.diffusionCoefficient # Schmidt Number\n",
        "  Re = v*L/air.kinematicViscosity                      # Reynold's Number with tank height as characteristic length\n",
        "\n",
        "  Sh = 0.664*(Re**0.5)*(Sc**(1/3))                     # Sherwood Number\n",
        "\n",
        "  return Sh*air.diffusionCoefficient/L\n",
        "\n",
        "\n",
        "\n",
        "def evaporationRate(tank: tankGeo, fan:fan, material: mat, air: AP, S ): # New Variable S is the mass saturation = mass of water / maximum mass of water\n",
        "\n",
        "  massCoeff = hm(tank,fan,air)\n",
        "\n",
        "  A = tank.areaTank\n",
        "  densityWater = 1000 # kgm^3\n",
        "  VTotal = tank.areaTank*material.t\n",
        "  VWater = material.msat/densityWater # Total volume of water added\n",
        "  VPore = material.porosity*VTotal # Volume of pores\n",
        "  VMaterial = VTotal - VPore\n",
        "\n",
        "  kWater = 0.6 #estimate for thermal conductivity of water\n",
        "  hAir = 10    # convective heat loss coefficient for air (may need to change)\n",
        "  hfg = 1 # Latent heat of evaporation\n",
        "\n",
        "\n",
        "\n",
        "\n",
        "  ## Handling 3 Phase mixture conductivity\n",
        "\n",
        "  if VPore > VWater: # Not all pores in the fibre are occupied so there is still some air remaining\n",
        "\n",
        "    VAir = VPore - VWater\n",
        "    kTotal = (material.k*VMaterial + kWater*VWater + air.thermalConductivity*VAir)/VTotal\n",
        "\n",
        "  else: # The pores in the fibre are fully occupied with water and all air is displaced. Additional water can be absorbed by swelling\n",
        "\n",
        "    kTotal = (material.k*VMaterial + kWater*VWater)/VTotal\n",
        "\n",
        "\n",
        "\n",
        "\n",
        "\n",
        "  ## Defining the thermal resistances based on thermal conductivity\n",
        "\n",
        "\n",
        "  Raf = 1/(hAir*A) #Thermal resistance from air to fabric\n",
        "  Rfw = np.ln((tank.Rinner + mat.t) / tank.Rinner)/(2*np.pi()*tank.height*kTotal) + np.ln((tank.Rinner) / (tank.Rinner - tank.t) )/(2*np.pi()*tank.height*tank.k) #Thermal resistance from fabric to water. Currently to surface of water\n",
        "  Rawc = tank.t/(tank.k*2*np.pi()*(tank.Rinner**2))\n",
        "  Rawe = 0 # emissive resistance (0 is just a filler for now)\n",
        "  Raw = Rawc + Rawe # Likely temporary probably better to handle any radiative input as a current source into the water\n",
        "\n",
        "  ## Iterating to solve for Tf, Tw and Pv\n",
        "\n",
        "  Tf = air.T - 2 # Starting guess, slightly below ambient\n",
        "\n",
        "  tol = 1e-3\n",
        "  maxRunTime = 100\n",
        "\n",
        "  for i in range(maxRunTime):\n",
        "\n",
        "    Tw = (Rfw * air.T + Raw * Tf)/(Raw + Rfw)\n",
        "    Pv = 1 #evaluate Pv at Tf\n",
        "    Ps = 1 #evaluate Ps at Ta\n",
        "    mdot = S*massCoeff*A*(Pv - Ps)\n",
        "\n",
        "    q_evap = mdot*hfg\n",
        "\n",
        "    qaf = (air.T - Tf)/Raf\n",
        "    qwf = (Tw - Tf)/Rfw\n",
        "\n",
        "    e = qaf + qwf - q_evap\n",
        "\n",
        "    if abs(e) < tol:\n",
        "      break\n",
        "\n",
        "    Tf -= 0.1*e #Realaxtion method of shifting by fixed proportion of error. Can upgrade to Newton-Raphson\n",
        "\n",
        "\n",
        "  return Tw\n",
        "\n",
        "\n",
        "\n",
        "\n",
        "\n",
        "\n",
        "\n",
        "\n",
        "\n"
      ],
      "metadata": {
        "id": "sQGWPNzBodza"
      },
      "execution_count": 5,
      "outputs": []
    },
    {
      "cell_type": "code",
      "source": [],
      "metadata": {
        "id": "x3pcmhjc86x0"
      },
      "execution_count": 5,
      "outputs": []
    }
  ]
}